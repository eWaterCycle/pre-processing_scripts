{
 "cells": [
  {
   "cell_type": "markdown",
   "metadata": {},
   "source": [
    "# Preprocessing ERA5 data for SUMMA forcings in the MeuseA\n",
    "\n",
    "TODO:\n",
    " * Get air pressure\n",
    " * Get longwave radiation"
   ]
  },
  {
   "cell_type": "code",
   "execution_count": 1,
   "metadata": {},
   "outputs": [
    {
     "name": "stdout",
     "output_type": "stream",
     "text": [
      "Populating the interactive namespace from numpy and matplotlib\n"
     ]
    }
   ],
   "source": [
    "%pylab inline\n",
    "\n",
    "import os\n",
    "import salem\n",
    "import xarray as xr\n",
    "\n",
    "from datetime import datetime, timedelta\n",
    "from calendar import monthrange\n",
    "import matplotlib.pyplot as plt\n",
    "import metsim.disaggregate as disagg\n",
    "import metsim.constants as cnst\n",
    "\n",
    "era5_raw_dir = '/mnt/data/ERA-5/raw/'\n",
    "shapefile = '../summa_era5_setup/shapefiles/meuse_hydrosheds.shp'"
   ]
  },
  {
   "cell_type": "markdown",
   "metadata": {},
   "source": [
    "## Step 1: Load data\n",
    "We start by reading the shapefile, the raw data, and then cropping out a bounding box to reduce the data size"
   ]
  },
  {
   "cell_type": "code",
   "execution_count": 2,
   "metadata": {},
   "outputs": [],
   "source": [
    "# cut out ROI from ERA5 data using shapefile\n",
    "shdf = salem.read_shapefile(shapefile)\n",
    "x_bounds = float(np.round(shdf.min_x - 3)), float(np.round(shdf.max_x + 3))\n",
    "y_bounds = float(np.round(shdf.max_y + 3)), float(np.round(shdf.min_y - 3))\n",
    "\n",
    "# open ERA5 forcing file\n",
    "ds = xr.open_mfdataset(era5_raw_dir + '*.nc')\n",
    "# transform longitude to West negative, East positive\n",
    "ds = ds.assign_coords(longitude=(((ds.longitude + 180) % 360) - 180))\n",
    "ds = ds.sel(latitude=slice(*y_bounds), longitude=slice(*x_bounds))"
   ]
  },
  {
   "cell_type": "markdown",
   "metadata": {},
   "source": [
    "## Step 2: Compute masks and put data on HRU dimension\n",
    "Because SUMMA requires the input to be aranged spatially by the HRU dimension, we have to crop out all of the non-active cells in the input. From this we restack on our new dimension"
   ]
  },
  {
   "cell_type": "code",
   "execution_count": 3,
   "metadata": {},
   "outputs": [
    {
     "name": "stderr",
     "output_type": "stream",
     "text": [
      "/mnt/home/user7/.conda/envs/fair_hydro/lib/python3.7/site-packages/dask/core.py:119: RuntimeWarning: invalid value encountered in greater\n",
      "  return func(*args2)\n"
     ]
    },
    {
     "data": {
      "text/plain": [
       "<xarray.Dataset>\n",
       "Dimensions:    (hru: 101, time: 8784)\n",
       "Coordinates:\n",
       "  * hru        (hru) int64 1 2 3 4 5 6 7 8 9 10 ... 93 94 95 96 97 98 99 100 101\n",
       "  * time       (time) datetime64[ns] 2000-01-01 ... 2000-12-31T23:00:00\n",
       "Data variables:\n",
       "    latitude   (hru) float64 51.75 51.75 51.75 51.75 ... 48.25 48.0 48.0 48.0\n",
       "    longitude  (hru) float64 4.75 5.0 5.25 5.5 5.75 ... 5.75 6.0 5.5 5.75 6.0"
      ]
     },
     "execution_count": 3,
     "metadata": {},
     "output_type": "execute_result"
    }
   ],
   "source": [
    "# Coordinate reference system for both STATSGO and ERA5:\n",
    "mask = ds['t2m'].isel(time=0).salem.roi(shape=shdf, all_touched=True) > 0\n",
    "mask = mask.stack(hru=['latitude', 'longitude'])\n",
    "\n",
    "era_ds = ds.stack(hru=['latitude', 'longitude'])\n",
    "era_ds = era_ds.where(mask, drop=True)\n",
    "mask = mask.where(mask, drop=True)\n",
    "\n",
    "lons = mask.longitude\n",
    "lats = mask.latitude\n",
    "mask['hru'].values = np.arange(len(mask['hru'])) + 1\n",
    "era_ds['hru'].values = np.arange(len(mask['hru'])) + 1\n",
    "\n",
    "summa_ds = xr.Dataset(coords={'hru': mask['hru'].values, 'time': ds['time'].values})\n",
    "summa_ds['latitude'] = lats\n",
    "summa_ds['longitude'] = lons\n",
    "summa_ds"
   ]
  },
  {
   "cell_type": "markdown",
   "metadata": {},
   "source": [
    "## Add in the variables and write out"
   ]
  },
  {
   "cell_type": "code",
   "execution_count": 4,
   "metadata": {},
   "outputs": [],
   "source": [
    "# Wind speed\n",
    "summa_ds['windspd'] = (np.sqrt(era_ds['u10']**2 + era_ds['v10']**2) \n",
    "                       * 4.87/np.log(67.8*10-5.42)) # check this logarithmic profile!"
   ]
  },
  {
   "cell_type": "code",
   "execution_count": 6,
   "metadata": {},
   "outputs": [],
   "source": [
    "# Air temperature\n",
    "summa_ds['airtemp'] = era_ds['t2m']"
   ]
  },
  {
   "cell_type": "code",
   "execution_count": 7,
   "metadata": {},
   "outputs": [],
   "source": [
    "# Shortwave radiation\n",
    "summa_ds['SWRadAtm'] = era_ds['ssrd'] / 3600"
   ]
  },
  {
   "cell_type": "code",
   "execution_count": 8,
   "metadata": {},
   "outputs": [],
   "source": [
    "# CHANGE TO AIR PRESSURE - sp\n",
    "summa_ds['airpres'] = era_ds['msl']"
   ]
  },
  {
   "cell_type": "code",
   "execution_count": 10,
   "metadata": {},
   "outputs": [],
   "source": [
    "# Specific humidity\n",
    "E = 611*np.exp((17.76*(era_ds['d2m']-cnst.KELVIN))/(era_ds['d2m']-29.65)) # actual vapour pressure (Pa)\n",
    "spechum = disagg.specific_humidity(E/1000,summa_ds['airpres']/1000) #[SUMMA: g/g, MetSim output is g/kg?]\n",
    "summa_ds['spechum'] = spechum"
   ]
  },
  {
   "cell_type": "code",
   "execution_count": 13,
   "metadata": {},
   "outputs": [
    {
     "name": "stderr",
     "output_type": "stream",
     "text": [
      "/mnt/home/user7/.conda/envs/fair_hydro/lib/python3.7/site-packages/dask/core.py:119: RuntimeWarning: invalid value encountered in greater\n",
      "  return func(*args2)\n"
     ]
    }
   ],
   "source": [
    "# Cloud cover\n",
    "era_ds['tcc'] = era_ds['t2m']\n",
    "era_ds['tcc'].values = np.random.random(size=era_ds['t2m'].shape)"
   ]
  },
  {
   "cell_type": "code",
   "execution_count": 14,
   "metadata": {},
   "outputs": [],
   "source": [
    "# Longwave\n",
    "params = {'lw_type': 'SATTERLUND', 'lw_cloud': 'CLOUD_DEARDORFF'}\n",
    "longwave = disagg.longwave(era_ds['t2m']-cnst.KELVIN,E/1000,era_ds['tcc'], params)  # [SUMMA: W/m2]\n",
    "summa_ds['LWRadAtm'] = longwave"
   ]
  },
  {
   "cell_type": "code",
   "execution_count": 16,
   "metadata": {},
   "outputs": [],
   "source": [
    "# Precipitation\n",
    "summa_ds['pptrate'] = era_ds['tp']\n",
    "summa_ds['pptrate'] = summa_ds['pptrate'].where(era_ds['tp']>0.000001).fillna(0) * 1000 / 3600"
   ]
  },
  {
   "cell_type": "code",
   "execution_count": 19,
   "metadata": {},
   "outputs": [],
   "source": [
    "summa_ds.to_netcdf('../summa_era5_setup/forcing/meuse_testdata.nc')"
   ]
  }
 ],
 "metadata": {
  "kernelspec": {
   "display_name": "Python 3",
   "language": "python",
   "name": "python3"
  },
  "language_info": {
   "codemirror_mode": {
    "name": "ipython",
    "version": 3
   },
   "file_extension": ".py",
   "mimetype": "text/x-python",
   "name": "python",
   "nbconvert_exporter": "python",
   "pygments_lexer": "ipython3",
   "version": "3.6.8"
  }
 },
 "nbformat": 4,
 "nbformat_minor": 2
}
